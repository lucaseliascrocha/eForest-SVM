{
 "cells": [
  {
   "cell_type": "code",
   "execution_count": 1,
   "metadata": {},
   "outputs": [],
   "source": [
    "import numpy as np\n",
    "from sklearn import tree\n",
    "from sklearn.ensemble import RandomForestClassifier"
   ]
  },
  {
   "cell_type": "code",
   "execution_count": 2,
   "metadata": {},
   "outputs": [],
   "source": [
    "n_termos = 59991\n",
    "\n",
    "### Carregando modelo em disco ###\n",
    "from sklearn.externals import joblib\n",
    "joblib_file = \"modelos/Supervisionado/encoder(50).pkl\"\n",
    "model_eforest = joblib.load(joblib_file)"
   ]
  },
  {
   "cell_type": "code",
   "execution_count": 3,
   "metadata": {},
   "outputs": [],
   "source": [
    "k = 0 #Índice da árvore escolhida\n",
    "estimator = model_eforest.estimators_[k]"
   ]
  },
  {
   "cell_type": "code",
   "execution_count": 4,
   "metadata": {},
   "outputs": [
    {
     "name": "stdout",
     "output_type": "stream",
     "text": [
      "The binary tree structure has 4147 nodes\n",
      "Leave: 2074\n"
     ]
    },
    {
     "data": {
      "text/plain": [
       "202765"
      ]
     },
     "execution_count": 4,
     "metadata": {},
     "output_type": "execute_result"
    }
   ],
   "source": [
    "n_nodes = estimator.tree_.node_count\n",
    "children_left = estimator.tree_.children_left\n",
    "children_right = estimator.tree_.children_right\n",
    "feature = estimator.tree_.feature\n",
    "threshold = estimator.tree_.threshold\n",
    "\n",
    "# The tree structure can be traversed to compute various properties such\n",
    "# as the depth of each node and whether or not it is a leaf.\n",
    "node_depth = np.zeros(shape=n_nodes)\n",
    "is_leaves = np.zeros(shape=n_nodes, dtype=bool)\n",
    "stack = [(0, -1)]  # seed is the root node id and its parent depth\n",
    "while len(stack) > 0:\n",
    "    node_id, parent_depth = stack.pop()\n",
    "    node_depth[node_id] = parent_depth + 1\n",
    "\n",
    "    # If we have a test node\n",
    "    if (children_left[node_id] != children_right[node_id]):\n",
    "        stack.append((children_left[node_id], parent_depth + 1))\n",
    "        stack.append((children_right[node_id], parent_depth + 1))\n",
    "    else:\n",
    "        is_leaves[node_id] = True\n",
    "\n",
    "print(\"The binary tree structure has %s nodes\"\n",
    "      % n_nodes)\n",
    "r = \"\"\n",
    "n_folhas = 0\n",
    "for i in range(n_nodes):\n",
    "    if is_leaves[i]:\n",
    "        r += (\"node=%s leaf node.\\n\" % (i))\n",
    "        n_folhas += 1\n",
    "    else:\n",
    "        r += (\"node=%s test node: go to node %s if X[:, %s] <= %ss else to \"\n",
    "              \"node %s.\\n\"\n",
    "              % (i,\n",
    "                 children_left[i],\n",
    "                 feature[i],\n",
    "                 threshold[i],\n",
    "                 children_right[i],\n",
    "                 ))\n",
    "        '''\n",
    "        print(\"%snode=%s test node: go to node %s if X[:, %s] <= %ss else to \"\n",
    "              \"node %s.\"\n",
    "              % (int(node_depth[i]) * \"\\t\",\n",
    "                 i,\n",
    "                 children_left[i],\n",
    "                 feature[i],\n",
    "                 threshold[i],\n",
    "                 children_right[i],\n",
    "                 ))\n",
    "        '''\n",
    "print('Leave: ' + str(n_folhas))\n",
    "\n",
    "file = 'arvore.txt'\n",
    "output = open(file, 'w+')\n",
    "output.write(r)"
   ]
  },
  {
   "cell_type": "code",
   "execution_count": 12,
   "metadata": {},
   "outputs": [],
   "source": [
    "### Carregando coleção original ###\n",
    "folder = \"acmTesteTreino/\"\n",
    "arquivo = \"treino0.txt\"\n",
    "\n",
    "file_c = folder + arquivo\n",
    "file = open(file_c, 'r', encoding=\"utf8\")\n",
    "docs = file.readlines()\n",
    "file.close()\n",
    "\n",
    "n_termos = 59991\n",
    "\n",
    "#Y (classes)\n",
    "Y = []\n",
    "for doc in docs:\n",
    "    Y.append(doc.split()[0])\n",
    "    \n",
    "#X (features)\n",
    "X = np.zeros((len(docs), n_termos), dtype=np.int_)\n",
    "\n",
    "for index,doc in enumerate(docs):   \n",
    "    for termo in doc.split()[1:]:\n",
    "        X[index][int(termo.split(':')[0])] = int(termo.split(':')[1])\n",
    "            \n",
    "X_encode = model_eforest.encode(X)\n",
    "\n",
    "node_samples = []\n",
    "\n",
    "for t in range(len(X_encode[0])):\n",
    "    node_samples.append({})\n",
    "    for f in range(len(docs)):\n",
    "        if X_encode[f][t] in node_samples[t].keys():\n",
    "            node_samples[t][X_encode[f][t]] += 1\n",
    "        else:\n",
    "            node_samples[t][X_encode[f][t]] = 1"
   ]
  },
  {
   "cell_type": "code",
   "execution_count": 35,
   "metadata": {},
   "outputs": [
    {
     "data": {
      "text/plain": [
       "2860"
      ]
     },
     "execution_count": 35,
     "metadata": {},
     "output_type": "execute_result"
    }
   ],
   "source": [
    "X_encode[0][0]"
   ]
  },
  {
   "cell_type": "code",
   "execution_count": 31,
   "metadata": {},
   "outputs": [
    {
     "data": {
      "text/plain": [
       "50"
      ]
     },
     "execution_count": 31,
     "metadata": {},
     "output_type": "execute_result"
    }
   ],
   "source": [
    "altura_max = estimator.tree_.max_depth\n",
    "altura_max"
   ]
  },
  {
   "cell_type": "code",
   "execution_count": 36,
   "metadata": {},
   "outputs": [
    {
     "data": {
      "text/plain": [
       "50.0"
      ]
     },
     "execution_count": 36,
     "metadata": {},
     "output_type": "execute_result"
    }
   ],
   "source": [
    "node_depth[X_encode[0][0]]"
   ]
  },
  {
   "cell_type": "code",
   "execution_count": 32,
   "metadata": {},
   "outputs": [
    {
     "data": {
      "text/plain": [
       "0.0"
      ]
     },
     "execution_count": 32,
     "metadata": {},
     "output_type": "execute_result"
    }
   ],
   "source": [
    "altura = altura_max - node_depth[X_encode[0][0]]\n",
    "altura"
   ]
  },
  {
   "cell_type": "code",
   "execution_count": 34,
   "metadata": {},
   "outputs": [
    {
     "data": {
      "text/plain": [
       "0.0"
      ]
     },
     "execution_count": 34,
     "metadata": {},
     "output_type": "execute_result"
    }
   ],
   "source": [
    "alpha = 0.8\n",
    "beta = 0.2\n",
    "peso = alpha * (altura/(altura_max-1))\n",
    "peso"
   ]
  },
  {
   "cell_type": "code",
   "execution_count": null,
   "metadata": {},
   "outputs": [],
   "source": [
    "40.11346520735014"
   ]
  }
 ],
 "metadata": {
  "kernelspec": {
   "display_name": "Python 3",
   "language": "python",
   "name": "python3"
  },
  "language_info": {
   "codemirror_mode": {
    "name": "ipython",
    "version": 3
   },
   "file_extension": ".py",
   "mimetype": "text/x-python",
   "name": "python",
   "nbconvert_exporter": "python",
   "pygments_lexer": "ipython3",
   "version": "3.5.5"
  }
 },
 "nbformat": 4,
 "nbformat_minor": 2
}
