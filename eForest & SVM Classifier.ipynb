{
 "cells": [
  {
   "cell_type": "code",
   "execution_count": 1,
   "metadata": {},
   "outputs": [
    {
     "name": "stderr",
     "output_type": "stream",
     "text": [
      "/home/lucas/anaconda3/envs/eforest/lib/python3.5/site-packages/sklearn/ensemble/weight_boosting.py:29: DeprecationWarning: numpy.core.umath_tests is an internal NumPy module and should not be imported. It will be removed in a future NumPy release.\n",
      "  from numpy.core.umath_tests import inner1d\n"
     ]
    }
   ],
   "source": [
    "import numpy as np\n",
    "from sklearn.ensemble import RandomForestClassifier\n",
    "#from sklearn.ensemble import RandomTreesEmbedding"
   ]
  },
  {
   "cell_type": "code",
   "execution_count": 8,
   "metadata": {},
   "outputs": [],
   "source": [
    "### Carregando arquivos de teste e treino ###\n",
    "\n",
    "folder = \"acmTesteTreino/\"\n",
    "arquivo_teste = \"teste4.txt\"\n",
    "arquivo_treino = \"treino4.txt\"\n",
    "\n",
    "file_treino = folder + arquivo_treino\n",
    "file = open(file_treino, 'r', encoding=\"utf8\")\n",
    "treino = file.readlines()\n",
    "file.close()\n",
    "\n",
    "file_teste = folder + arquivo_teste\n",
    "file = open(file_teste, 'r', encoding=\"utf8\")\n",
    "teste = file.readlines()\n",
    "file.close()"
   ]
  },
  {
   "cell_type": "code",
   "execution_count": 9,
   "metadata": {},
   "outputs": [],
   "source": [
    "n_termos = 59991\n",
    "\n",
    "### Montando (X_treino, Y_treino) e (X_teste, Y_teste) ###\n",
    "\n",
    "#Y_treino\n",
    "Y_treino = []\n",
    "for doc in treino:\n",
    "    Y_treino.append(doc.split()[0])\n",
    "\n",
    "#Y_teste\n",
    "Y_teste = []\n",
    "for doc in teste:\n",
    "    Y_teste.append(doc.split()[0])\n",
    "\n",
    "#X_treino\n",
    "X_treino = np.zeros((len(treino), n_termos), dtype=np.int_)\n",
    "\n",
    "for index,doc in enumerate(treino):    \n",
    "    for termo in doc.split()[1:]:\n",
    "        X_treino[index][int(termo.split(':')[0])] = int(termo.split(':')[1])\n",
    "        \n",
    "#X_teste\n",
    "X_teste = np.zeros((len(teste), n_termos), dtype=np.int_)\n",
    "\n",
    "for index,doc in enumerate(teste):    \n",
    "    for termo in doc.split()[1:]:\n",
    "        X_teste[index][int(termo.split(':')[0])] = int(termo.split(':')[1])\n"
   ]
  },
  {
   "cell_type": "code",
   "execution_count": 10,
   "metadata": {},
   "outputs": [
    {
     "data": {
      "text/plain": [
       "((19916, 59991), (4981, 59991))"
      ]
     },
     "execution_count": 10,
     "metadata": {},
     "output_type": "execute_result"
    }
   ],
   "source": [
    "X_treino.shape, X_teste.shape"
   ]
  },
  {
   "cell_type": "code",
   "execution_count": 5,
   "metadata": {},
   "outputs": [],
   "source": [
    "### Carregando modelo em disco ###\n",
    "from sklearn.externals import joblib\n",
    "joblib_file = \"modelos/Supervisionado/encoder(50).pkl\"\n",
    "model_eforest = joblib.load(joblib_file)"
   ]
  },
  {
   "cell_type": "code",
   "execution_count": 11,
   "metadata": {},
   "outputs": [],
   "source": [
    "### Definindo modelo encoder eForest ###\n",
    "model_eforest = RandomForestClassifier(n_estimators=300, max_depth=None, n_jobs=-1)\n",
    "#model_eforest = RandomTreesEmbedding(n_estimators=300, max_depth=None, n_jobs=-1)"
   ]
  },
  {
   "cell_type": "code",
   "execution_count": 12,
   "metadata": {},
   "outputs": [
    {
     "data": {
      "text/plain": [
       "RandomForestClassifier(bootstrap=True, class_weight=None, criterion='gini',\n",
       "            max_depth=None, max_features='auto', max_leaf_nodes=None,\n",
       "            min_impurity_decrease=0.0, min_impurity_split=None,\n",
       "            min_samples_leaf=1, min_samples_split=2,\n",
       "            min_weight_fraction_leaf=0.0, n_estimators=300, n_jobs=-1,\n",
       "            oob_score=False, random_state=None, verbose=0,\n",
       "            warm_start=False)"
      ]
     },
     "execution_count": 12,
     "metadata": {},
     "output_type": "execute_result"
    }
   ],
   "source": [
    "### Treinando modelo encoder eForest ###\n",
    "model_eforest.fit(X_treino, Y_treino)\n",
    "#model_eforest.fit(X_treino)"
   ]
  },
  {
   "cell_type": "code",
   "execution_count": 13,
   "metadata": {},
   "outputs": [
    {
     "data": {
      "text/plain": [
       "['encoder.pkl']"
      ]
     },
     "execution_count": 13,
     "metadata": {},
     "output_type": "execute_result"
    }
   ],
   "source": [
    "### Salvando codificador em disco ###\n",
    "\n",
    "from sklearn.externals import joblib\n",
    "joblib_file = \"encoder.pkl\"\n",
    "joblib.dump(model_eforest, joblib_file)"
   ]
  },
  {
   "cell_type": "code",
   "execution_count": 8,
   "metadata": {},
   "outputs": [
    {
     "name": "stdout",
     "output_type": "stream",
     "text": [
      "Altura média: 1079.5166666666667\n",
      "Altura da menor árvore: 1150\n"
     ]
    }
   ],
   "source": [
    "### Aanalisando árvores de decisão ###\n",
    "\n",
    "k = 0 # árvore com menor número de folhas\n",
    "altura_media = model_eforest.estimators_[0].tree_.max_depth # altura média das arvores\n",
    "#n_folhas_medio = model_eforest.estimators_[0].tree_.get_n_leaves() # numero medio de folhas das arvores\n",
    "\n",
    "for i in range(1,300):\n",
    "    altura_media += model_eforest.estimators_[i].tree_.max_depth\n",
    "    #n_folhas_medio += model_eforest.estimators_[i].tree_.get_n_leaves()\n",
    "    #if model_eforest.estimators_[i].tree_.get_n_leaves() < model_eforest.estimators_[k].tree_.get_n_leaves():\n",
    "    #    k = i        \n",
    "altura_media = altura_media/300\n",
    "#n_folhas_medio = n_folhas_medio/1000\n",
    "\n",
    "print('Altura média: ' + str(altura_media))\n",
    "#print('Média de número de folhas: ' + str(n_folhas_medio))\n",
    "print('Altura da menor árvore: ' + str(model_eforest.estimators_[k].tree_.max_depth))"
   ]
  },
  {
   "cell_type": "code",
   "execution_count": 33,
   "metadata": {},
   "outputs": [],
   "source": [
    "### Visualizando árvore K  do codificador ###\n",
    "\n",
    "from sklearn.tree import export_graphviz\n",
    "\n",
    "tree = model_eforest.estimators_[k]\n",
    "\n",
    "features = list(range(n_termos))\n",
    "classes = ['0','1','2','3','4','5','6','7','8','9','10']\n",
    "\n",
    "export_graphviz(tree, out_file='k_tree.dot', \n",
    "                feature_names = features,\n",
    "                class_names = classes,\n",
    "                rounded = True, proportion = False, \n",
    "                precision = 2, filled = True)\n",
    "\n",
    "# Foi gerado o arquivo .dot\n",
    "# Para converter em png execute o seguinte comando:\n",
    "# dot k_tree.dot -Tpng -o k_tree.png"
   ]
  },
  {
   "cell_type": "code",
   "execution_count": 22,
   "metadata": {},
   "outputs": [
    {
     "data": {
      "text/plain": [
       "array([[26320, 21484, 19994, ..., 19827, 12517, 16775],\n",
       "       [18496, 28886, 32981, ..., 26442, 28634, 31957],\n",
       "       [25901, 38207, 35433, ..., 19891, 32977, 19828],\n",
       "       ...,\n",
       "       [19403, 28545, 31361, ..., 12629, 28633, 36144],\n",
       "       [ 6975, 19136,  6977, ..., 14901,  8102, 18168],\n",
       "       [ 7207,  6567,  6387, ...,  9669,  7063, 10666]])"
      ]
     },
     "execution_count": 22,
     "metadata": {},
     "output_type": "execute_result"
    }
   ],
   "source": [
    "### Codificando a coleção de Treino ###\n",
    "X_encode = model_eforest.encode(X_treino)\n",
    "X_encode"
   ]
  },
  {
   "cell_type": "code",
   "execution_count": 7,
   "metadata": {},
   "outputs": [
    {
     "data": {
      "text/plain": [
       "array([[2860,   50,   50,  323,   50,   50,   50,   50,   50,  822, 1928,\n",
       "          50,  246,  559,   50,   50, 1637, 2820,  406, 2331, 2357, 1398,\n",
       "          50,   50,   89,   50,   50, 3039,   50,  941, 2246,   50, 2090,\n",
       "         125, 2401, 1098,   50, 1318,   50,   50,   50,  295, 1058,  969,\n",
       "          93,  891, 2467,   50,  189,   50,   50,  232,  294,   50,   50,\n",
       "          50, 1023,   50, 1619,   71,   50,   50,   50,  237,   50,   50,\n",
       "        1997,   50, 2206, 1009, 3013, 3267,  521, 1403,   50,   50,   50,\n",
       "         787,   50,   50,  130, 1751,   50,   50,  710,   50,  191,  503,\n",
       "        2420,  735, 3751, 1523,   50,   65,   50,   50, 1100, 2900, 1609,\n",
       "        2396, 1811,   50,  665,   50,   50, 2504, 3319,   50, 1661,  311,\n",
       "          50,   50,   50,   50,  335,   50, 3887,  107,   63,   50,   50,\n",
       "          50,   50,   50, 1825,   50, 2406, 2913, 3157, 3367,   50,   50,\n",
       "          50,   50, 1079, 2977, 2073,  817,  359,   50,  155,   50,  133,\n",
       "          50,  514,   50,   59,  736,  156,   50,   50,  281,  135, 1747,\n",
       "          50,   50,   50, 1850, 2197,   63,  367, 1541,   50,   50,  127,\n",
       "        2299,  377, 2725, 1720, 1337,  359,   53, 2898,   50,   50,  406,\n",
       "          50,   50,   50,   50,   50, 1945, 1581, 1086,   50, 1785, 2512,\n",
       "          50,   50, 2043,  931,   50,   51,   50, 1067,  671, 1163,   50,\n",
       "          50,  249,   50,   50,   50, 2343,   50,   50,   58,   50,   50,\n",
       "         619,  507,   83,  323,   50,   50,   81, 1689,   50,  161,   50,\n",
       "          50,   50,  307,  921,   50,  493,  702,   50, 1505,   50,   50,\n",
       "        2063, 2867,   50, 1165,   50,  945,  387,   50, 1003,   50,  827,\n",
       "          50, 2829,   57,   50, 2825,   50,   50, 1638, 1362,   53, 2080,\n",
       "        2316,   50, 3542,   50,  619,   83, 1423, 2636,  771,   51,   50,\n",
       "        1471,   50,   50,   50,  663,   50,   50, 1703,  359,  243, 1567,\n",
       "        2690,   50,   50, 1334,   53,   50, 1417,  871, 3064,   50,   79,\n",
       "        3639,   61, 1192,  658,   50, 2835,  573, 2370, 2753,   50,  733,\n",
       "          63,   50, 1821]])"
      ]
     },
     "execution_count": 7,
     "metadata": {},
     "output_type": "execute_result"
    }
   ],
   "source": [
    "n = model_eforest.encode(X_treino[0].reshape(1, -1))\n",
    "n"
   ]
  },
  {
   "cell_type": "code",
   "execution_count": null,
   "metadata": {},
   "outputs": [],
   "source": []
  },
  {
   "cell_type": "code",
   "execution_count": null,
   "metadata": {},
   "outputs": [],
   "source": []
  },
  {
   "cell_type": "code",
   "execution_count": null,
   "metadata": {},
   "outputs": [],
   "source": []
  },
  {
   "cell_type": "code",
   "execution_count": null,
   "metadata": {},
   "outputs": [],
   "source": []
  }
 ],
 "metadata": {
  "kernelspec": {
   "display_name": "Python 3",
   "language": "python",
   "name": "python3"
  },
  "language_info": {
   "codemirror_mode": {
    "name": "ipython",
    "version": 3
   },
   "file_extension": ".py",
   "mimetype": "text/x-python",
   "name": "python",
   "nbconvert_exporter": "python",
   "pygments_lexer": "ipython3",
   "version": "3.5.5"
  }
 },
 "nbformat": 4,
 "nbformat_minor": 2
}
