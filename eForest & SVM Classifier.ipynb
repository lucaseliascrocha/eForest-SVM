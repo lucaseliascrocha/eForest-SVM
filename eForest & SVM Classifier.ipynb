{
 "cells": [
  {
   "cell_type": "code",
   "execution_count": 1,
   "metadata": {},
   "outputs": [],
   "source": [
    "import numpy as np\n",
    "#from sklearn.ensemble import RandomForestClassifier\n",
    "from sklearn.ensemble import RandomTreesEmbedding"
   ]
  },
  {
   "cell_type": "code",
   "execution_count": 2,
   "metadata": {},
   "outputs": [],
   "source": [
    "### Carregando arquivos de teste e treino ###\n",
    "\n",
    "folder = \"acmTesteTreino/\"\n",
    "arquivo_teste = \"teste0.txt\"\n",
    "arquivo_treino = \"treino0.txt\"\n",
    "\n",
    "file_treino = folder + arquivo_treino\n",
    "file = open(file_treino, 'r', encoding=\"utf8\")\n",
    "treino = file.readlines()\n",
    "file.close()\n",
    "\n",
    "file_teste = folder + arquivo_teste\n",
    "file = open(file_teste, 'r', encoding=\"utf8\")\n",
    "teste = file.readlines()\n",
    "file.close()"
   ]
  },
  {
   "cell_type": "code",
   "execution_count": 3,
   "metadata": {},
   "outputs": [],
   "source": [
    "n_termos = 59991\n",
    "\n",
    "### Montando (X_treino, Y_treino) e (X_teste, Y_teste) ###\n",
    "\n",
    "#Y_treino\n",
    "Y_treino = []\n",
    "for doc in treino:\n",
    "    Y_treino.append(doc.split()[0])\n",
    "\n",
    "#Y_teste\n",
    "Y_teste = []\n",
    "for doc in teste:\n",
    "    Y_teste.append(doc.split()[0])\n",
    "\n",
    "#X_treino\n",
    "X_treino = np.zeros((len(treino), n_termos), dtype=np.int_)\n",
    "\n",
    "for index,doc in enumerate(treino):    \n",
    "    for termo in doc.split()[1:]:\n",
    "        X_treino[index][int(termo.split(':')[0])] = int(termo.split(':')[1])\n",
    "        \n",
    "#X_teste\n",
    "X_teste = np.zeros((len(teste), n_termos), dtype=np.int_)\n",
    "\n",
    "for index,doc in enumerate(teste):    \n",
    "    for termo in doc.split()[1:]:\n",
    "        X_teste[index][int(termo.split(':')[0])] = int(termo.split(':')[1])\n"
   ]
  },
  {
   "cell_type": "code",
   "execution_count": 4,
   "metadata": {},
   "outputs": [
    {
     "data": {
      "text/plain": [
       "((19918, 59991), (4979, 59991))"
      ]
     },
     "execution_count": 4,
     "metadata": {},
     "output_type": "execute_result"
    }
   ],
   "source": [
    "X_treino.shape, X_teste.shape"
   ]
  },
  {
   "cell_type": "code",
   "execution_count": 10,
   "metadata": {},
   "outputs": [],
   "source": [
    "### Carregando modelo em disco ###\n",
    "from sklearn.externals import joblib\n",
    "joblib_file = \"encoder.pkl\"\n",
    "model_eforest = joblib.load(joblib_file)"
   ]
  },
  {
   "cell_type": "code",
   "execution_count": 18,
   "metadata": {},
   "outputs": [],
   "source": [
    "### Definindo modelo encoder eForest ###\n",
    "#model_eforest = RandomForestClassifier(n_estimators=300, max_depth=50, n_jobs=-1)\n",
    "model_eforest = RandomTreesEmbedding(n_estimators=300, max_depth=None, n_jobs=-1)"
   ]
  },
  {
   "cell_type": "code",
   "execution_count": 19,
   "metadata": {},
   "outputs": [
    {
     "data": {
      "text/plain": [
       "RandomTreesEmbedding(max_depth=None, max_leaf_nodes=None,\n",
       "           min_impurity_decrease=0.0, min_impurity_split=None,\n",
       "           min_samples_leaf=1, min_samples_split=2,\n",
       "           min_weight_fraction_leaf=0.0, n_estimators=300, n_jobs=-1,\n",
       "           random_state=None, sparse_output=True, verbose=0,\n",
       "           warm_start=False)"
      ]
     },
     "execution_count": 19,
     "metadata": {},
     "output_type": "execute_result"
    }
   ],
   "source": [
    "### Treinando modelo encoder eForest ###\n",
    "#model_eforest.fit(X_treino, Y_treino)\n",
    "model_eforest.fit(X_treino)"
   ]
  },
  {
   "cell_type": "code",
   "execution_count": 20,
   "metadata": {},
   "outputs": [
    {
     "data": {
      "text/plain": [
       "['encoder.pkl']"
      ]
     },
     "execution_count": 20,
     "metadata": {},
     "output_type": "execute_result"
    }
   ],
   "source": [
    "### Salvando codificador em disco ###\n",
    "\n",
    "from sklearn.externals import joblib\n",
    "joblib_file = \"encoder.pkl\"\n",
    "joblib.dump(model_eforest, joblib_file)"
   ]
  },
  {
   "cell_type": "code",
   "execution_count": 21,
   "metadata": {},
   "outputs": [
    {
     "name": "stdout",
     "output_type": "stream",
     "text": [
      "Altura média: 6270.5633333333335\n",
      "Altura da menor árvore: 6337\n"
     ]
    }
   ],
   "source": [
    "### Aanalisando árvores de decisão ###\n",
    "\n",
    "k = 0 # árvore com menor número de folhas\n",
    "altura_media = model_eforest.estimators_[0].tree_.max_depth # altura média das arvores\n",
    "#n_folhas_medio = model_eforest.estimators_[0].tree_.get_n_leaves() # numero medio de folhas das arvores\n",
    "\n",
    "for i in range(1,300):\n",
    "    altura_media += model_eforest.estimators_[i].tree_.max_depth\n",
    "    #n_folhas_medio += model_eforest.estimators_[i].tree_.get_n_leaves()\n",
    "    #if model_eforest.estimators_[i].tree_.get_n_leaves() < model_eforest.estimators_[k].tree_.get_n_leaves():\n",
    "    #    k = i        \n",
    "altura_media = altura_media/300\n",
    "#n_folhas_medio = n_folhas_medio/1000\n",
    "\n",
    "print('Altura média: ' + str(altura_media))\n",
    "#print('Média de número de folhas: ' + str(n_folhas_medio))\n",
    "print('Altura da menor árvore: ' + str(model_eforest.estimators_[k].tree_.max_depth))"
   ]
  },
  {
   "cell_type": "code",
   "execution_count": 9,
   "metadata": {},
   "outputs": [],
   "source": [
    "### Visualizando árvore K  do codificador ###\n",
    "\n",
    "from sklearn.tree import export_graphviz\n",
    "\n",
    "tree = model_eforest.estimators_[k]\n",
    "\n",
    "features = list(range(n_termos))\n",
    "classes = ['0','1','2','3','4','5','6','7','8','9','10']\n",
    "\n",
    "export_graphviz(tree, out_file='k_tree.dot', \n",
    "                feature_names = features,\n",
    "                class_names = classes,\n",
    "                rounded = True, proportion = False, \n",
    "                precision = 2, filled = True)\n",
    "\n",
    "# Foi gerado o arquivo .dot\n",
    "# Para converter em png execute o seguinte comando:\n",
    "# dot k_tree.dot -Tpng -o k_tree.png"
   ]
  },
  {
   "cell_type": "code",
   "execution_count": 22,
   "metadata": {},
   "outputs": [
    {
     "data": {
      "text/plain": [
       "array([[26320, 21484, 19994, ..., 19827, 12517, 16775],\n",
       "       [18496, 28886, 32981, ..., 26442, 28634, 31957],\n",
       "       [25901, 38207, 35433, ..., 19891, 32977, 19828],\n",
       "       ...,\n",
       "       [19403, 28545, 31361, ..., 12629, 28633, 36144],\n",
       "       [ 6975, 19136,  6977, ..., 14901,  8102, 18168],\n",
       "       [ 7207,  6567,  6387, ...,  9669,  7063, 10666]])"
      ]
     },
     "execution_count": 22,
     "metadata": {},
     "output_type": "execute_result"
    }
   ],
   "source": [
    "### Codificando a coleção de Treino ###\n",
    "X_encode = model_eforest.encode(X_treino)\n",
    "X_encode"
   ]
  },
  {
   "cell_type": "code",
   "execution_count": 11,
   "metadata": {},
   "outputs": [],
   "source": [
    "### Iniciando classificador SVM ###\n",
    "from sklearn import svm\n",
    "\n",
    "### Definindo o classificador SVM ###\n",
    "model_svm = svm.SVC(kernel='linear', gamma=1)"
   ]
  },
  {
   "cell_type": "code",
   "execution_count": null,
   "metadata": {},
   "outputs": [],
   "source": [
    "### Treinando modelo classificador SVM com a coleção Treino codificada (X_encode) ###\n",
    "model_svm.fit(X_encode, Y_treino)"
   ]
  },
  {
   "cell_type": "code",
   "execution_count": null,
   "metadata": {},
   "outputs": [],
   "source": [
    "#Score do modelo SVM\n",
    "model_svm.score(X_encode, Y_treino)"
   ]
  },
  {
   "cell_type": "code",
   "execution_count": null,
   "metadata": {},
   "outputs": [],
   "source": [
    "#Testando o classificador para a coleção Teste\n",
    "X_encode_teste = model_eforest.encode(X_teste)\n",
    "model_svm.score(X_encode_teste, Y_teste)"
   ]
  },
  {
   "cell_type": "code",
   "execution_count": null,
   "metadata": {},
   "outputs": [],
   "source": []
  }
 ],
 "metadata": {
  "kernelspec": {
   "display_name": "Python 3",
   "language": "python",
   "name": "python3"
  },
  "language_info": {
   "codemirror_mode": {
    "name": "ipython",
    "version": 3
   },
   "file_extension": ".py",
   "mimetype": "text/x-python",
   "name": "python",
   "nbconvert_exporter": "python",
   "pygments_lexer": "ipython3",
   "version": "3.5.5"
  }
 },
 "nbformat": 4,
 "nbformat_minor": 2
}
